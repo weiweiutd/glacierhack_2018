{
 "cells": [
  {
   "cell_type": "code",
   "execution_count": 1,
   "metadata": {},
   "outputs": [],
   "source": [
    "%matplotlib inline\n",
    "\n",
    "import rasterio\n",
    "from matplotlib import pyplot as plt\n",
    "import numpy as np\n",
    "\n",
    "def plot(array, label=None):\n",
    "    \"\"\"Plot a numpy array with a colorbar.\"\"\"\n",
    "    plt.imshow(array)\n",
    "    plt.colorbar()\n",
    "    if label is None:\n",
    "        label = 'Raster {}'.format(array.shape)\n",
    "    plt.title(label)\n",
    "    plt.xlabel('Column #')\n",
    "    plt.ylabel('Row #')"
   ]
  },
  {
   "cell_type": "code",
   "execution_count": 2,
   "metadata": {},
   "outputs": [],
   "source": [
    "#Allow for interactive figure display\n",
    "%matplotlib notebook\n",
    "#%matplotlib inline\n",
    "\n",
    "#Import necessary modules\n",
    "from osgeo import gdal\n",
    "import numpy as np\n",
    "import matplotlib.pyplot as plt\n",
    "from pprint import pprint as pp\n",
    "import io\n",
    "import requests\n",
    "import cv2"
   ]
  },
  {
   "cell_type": "code",
   "execution_count": 3,
   "metadata": {},
   "outputs": [
    {
     "name": "stdout",
     "output_type": "stream",
     "text": [
      "Your browser has been opened to visit:\n",
      "\n",
      "    https://accounts.google.com/o/oauth2/auth?client_id=307813950907-rvk9tbblercr3aklfvdrnng4uiddu715.apps.googleusercontent.com&redirect_uri=http%3A%2F%2Flocalhost%3A8080%2F&scope=https%3A%2F%2Fwww.googleapis.com%2Fauth%2Fdrive&access_type=offline&response_type=code\n",
      "\n",
      "Authentication successful.\n"
     ]
    }
   ],
   "source": [
    "from pydrive.auth import GoogleAuth\n",
    "from pydrive.drive import GoogleDrive\n",
    "\n",
    "gauth = GoogleAuth()\n",
    "# Create local webserver and auto handles authentication.\n",
    "# TODO: Find way to authenticate anonymously\n",
    "gauth.LocalWebserverAuth()\n",
    "\n",
    "drive = GoogleDrive(gauth)"
   ]
  },
  {
   "cell_type": "code",
   "execution_count": 4,
   "metadata": {},
   "outputs": [],
   "source": [
    "from pygeotools.lib import iolib, warplib, geolib, timelib, malib\n",
    "from urllib.request import urlopen\n",
    "from urllib.request import urlretrieve\n",
    "\n",
    "def open_file(blob_id):\n",
    "    \"\"\" Read a file from Google Drive into memory. Returns an open (BytesIO) file-like object. \"\"\"\n",
    "    \n",
    "    url = 'https://docs.google.com/uc?export=download'\n",
    "    session = requests.Session()\n",
    "    response = session.get(url, params = { 'id' : blob_id }, stream = True)\n",
    "    token = _get_token(response)\n",
    "    if token:\n",
    "        params = { 'id' : blob_id, 'confirm' : token }\n",
    "        response = session.get(url, params = params, stream = True)\n",
    "    file_bytes = response.content\n",
    "    return file_bytes\n",
    "\n",
    "def _get_token(response):\n",
    "    for key, value in response.cookies.items():\n",
    "        if key.startswith('download_warning'):\n",
    "            return value\n",
    "    return None\n",
    "\n",
    "def imageFromID(blob_id):\n",
    "    resp = urlopen('https://docs.google.com/uc?export=download&id=' + blob_id)\n",
    "    image = np.asarray(bytearray(resp.read()), dtype=\"uint8\")\n",
    "    image = cv2.imdecode(image, cv2.IMREAD_COLOR)\n",
    "    return image"
   ]
  },
  {
   "cell_type": "code",
   "execution_count": 10,
   "metadata": {},
   "outputs": [
    {
     "name": "stdout",
     "output_type": "stream",
     "text": [
      "{'alternateLink': 'https://drive.google.com/file/d/0B5c3UTO8DDZwelhHMlI4NHByTWM/view?usp=drivesdk',\n",
      " 'appDataContents': False,\n",
      " 'capabilities': {'canCopy': True, 'canEdit': False},\n",
      " 'copyRequiresWriterPermission': False,\n",
      " 'copyable': True,\n",
      " 'createdDate': '2017-09-15T05:11:18.039Z',\n",
      " 'downloadUrl': 'https://doc-08-6o-docs.googleusercontent.com/docs/securesc/ihp3jp61pfp4sr6kb97raia0m2btq99s/s13i7l6saii6sp37d5p9glp2l23upilm/1536890400000/01742668982526945759/08302835381752040696/0B5c3UTO8DDZwelhHMlI4NHByTWM?e=download&gd=true',\n",
      " 'editable': False,\n",
      " 'embedLink': 'https://drive.google.com/file/d/0B5c3UTO8DDZwelhHMlI4NHByTWM/preview?usp=drivesdk',\n",
      " 'etag': '\"v8V6DvTBE_bfiGlEO9jLLdDEcEE/MTUwNTQ1MjI3ODAzOQ\"',\n",
      " 'explicitlyTrashed': False,\n",
      " 'fileExtension': 'tif',\n",
      " 'fileSize': '1315326',\n",
      " 'headRevisionId': '0B5c3UTO8DDZwbkRSU2J0N05ZRlFhbFkyM1U4MnpmYXhRQlQwPQ',\n",
      " 'iconLink': 'https://drive-thirdparty.googleusercontent.com/16/type/image/tiff',\n",
      " 'id': '0B5c3UTO8DDZwelhHMlI4NHByTWM',\n",
      " 'imageMediaMetadata': {'height': 0, 'width': 0},\n",
      " 'kind': 'drive#file',\n",
      " 'labels': {'hidden': False,\n",
      "            'restricted': False,\n",
      "            'starred': False,\n",
      "            'trashed': False,\n",
      "            'viewed': False},\n",
      " 'lastModifyingUser': {'displayName': 'David Shean',\n",
      "                       'emailAddress': 'dshean@uw.edu',\n",
      "                       'isAuthenticatedUser': False,\n",
      "                       'kind': 'drive#user',\n",
      "                       'permissionId': '01742668982526945759',\n",
      "                       'picture': {'url': 'https://lh5.googleusercontent.com/-0YBSMIoUMUw/AAAAAAAAAAI/AAAAAAAA83s/Y7totzH2nwQ/s64/photo.jpg'}},\n",
      " 'lastModifyingUserName': 'David Shean',\n",
      " 'markedViewedByMeDate': '1970-01-01T00:00:00.000Z',\n",
      " 'md5Checksum': '33c09defb952e453b7f0e3612cf085e9',\n",
      " 'mimeType': 'image/tiff',\n",
      " 'modifiedDate': '2017-09-15T05:11:18.039Z',\n",
      " 'originalFilename': '20160211_0512_104001001854B000_10400100175C2D00-DEM_8m_trans_hs_multi.tif',\n",
      " 'ownerNames': ['David Shean'],\n",
      " 'owners': [{'displayName': 'David Shean',\n",
      "             'emailAddress': 'dshean@uw.edu',\n",
      "             'isAuthenticatedUser': False,\n",
      "             'kind': 'drive#user',\n",
      "             'permissionId': '01742668982526945759',\n",
      "             'picture': {'url': 'https://lh5.googleusercontent.com/-0YBSMIoUMUw/AAAAAAAAAAI/AAAAAAAA83s/Y7totzH2nwQ/s64/photo.jpg'}}],\n",
      " 'parents': [{'id': '0B5c3UTO8DDZwLVlDQnBoVC12TXM',\n",
      "              'isRoot': False,\n",
      "              'kind': 'drive#parentReference',\n",
      "              'parentLink': 'https://www.googleapis.com/drive/v2/files/0B5c3UTO8DDZwLVlDQnBoVC12TXM',\n",
      "              'selfLink': 'https://www.googleapis.com/drive/v2/files/0B5c3UTO8DDZwelhHMlI4NHByTWM/parents/0B5c3UTO8DDZwLVlDQnBoVC12TXM'}],\n",
      " 'quotaBytesUsed': '0',\n",
      " 'selfLink': 'https://www.googleapis.com/drive/v2/files/0B5c3UTO8DDZwelhHMlI4NHByTWM',\n",
      " 'shared': True,\n",
      " 'spaces': ['drive'],\n",
      " 'thumbnailLink': 'https://lh3.googleusercontent.com/8swxUpfpXWJAseEFgcuyiDoA87BziTLIfpedpEErGcHje3WK9ZcR5gjVsdINC2ULM2t3rw=s220',\n",
      " 'title': '20160211_0512_104001001854B000_10400100175C2D00-DEM_8m_trans_hs_multi.tif',\n",
      " 'userPermission': {'etag': '\"v8V6DvTBE_bfiGlEO9jLLdDEcEE/qeKo9slF3mgVi5HuHdJERUrsW7g\"',\n",
      "                    'id': 'me',\n",
      "                    'kind': 'drive#permission',\n",
      "                    'role': 'reader',\n",
      "                    'selfLink': 'https://www.googleapis.com/drive/v2/files/0B5c3UTO8DDZwelhHMlI4NHByTWM/permissions/me',\n",
      "                    'type': 'user'},\n",
      " 'version': '8',\n",
      " 'webContentLink': 'https://drive.google.com/uc?id=0B5c3UTO8DDZwelhHMlI4NHByTWM&export=download',\n",
      " 'writersCanShare': True}\n"
     ]
    }
   ],
   "source": [
    "publicFolder = '0B5c3UTO8DDZwLVlDQnBoVC12TXM'\n",
    "file_list = drive.ListFile({'q': \"'0B5c3UTO8DDZwLVlDQnBoVC12TXM' in parents and trashed=false\"}).GetList()\n",
    "pp(file_list[3])"
   ]
  },
  {
   "cell_type": "code",
   "execution_count": 12,
   "metadata": {},
   "outputs": [
    {
     "name": "stdout",
     "output_type": "stream",
     "text": [
      "'0B5c3UTO8DDZwcENvbkNQQTJMYlE'\n",
      "'https://drive.google.com/uc?id=0B5c3UTO8DDZwcENvbkNQQTJMYlE&export=download'\n",
      "'0B5c3UTO8DDZwSlh5amFKUDZ4T1U'\n",
      "'https://drive.google.com/uc?id=0B5c3UTO8DDZwSlh5amFKUDZ4T1U&export=download'\n",
      "'0B5c3UTO8DDZwZGZ1TkdWSmRQWDA'\n",
      "'https://drive.google.com/uc?id=0B5c3UTO8DDZwZGZ1TkdWSmRQWDA&export=download'\n",
      "'0B5c3UTO8DDZwSnp5Rk9XWG1pQ28'\n",
      "'https://drive.google.com/uc?id=0B5c3UTO8DDZwSnp5Rk9XWG1pQ28&export=download'\n",
      "'0B5c3UTO8DDZwQkVGQnVCdTdKcVk'\n",
      "'https://drive.google.com/uc?id=0B5c3UTO8DDZwQkVGQnVCdTdKcVk&export=download'\n",
      "'0B5c3UTO8DDZwQzJ6TFl5Rm9MTGM'\n",
      "'https://drive.google.com/uc?id=0B5c3UTO8DDZwQzJ6TFl5Rm9MTGM&export=download'\n",
      "'0B5c3UTO8DDZwSTg3Q1hxbDh6ZEE'\n",
      "'https://drive.google.com/uc?id=0B5c3UTO8DDZwSTg3Q1hxbDh6ZEE&export=download'\n",
      "'0B5c3UTO8DDZwUFZuUGtSbDlvOGs'\n",
      "'https://drive.google.com/uc?id=0B5c3UTO8DDZwUFZuUGtSbDlvOGs&export=download'\n",
      "'0B5c3UTO8DDZwR2NHYUM3M0U0VjQ'\n",
      "'https://drive.google.com/uc?id=0B5c3UTO8DDZwR2NHYUM3M0U0VjQ&export=download'\n",
      "'0B5c3UTO8DDZwNVlJV2FNN2JMM2s'\n",
      "'https://drive.google.com/uc?id=0B5c3UTO8DDZwNVlJV2FNN2JMM2s&export=download'\n",
      "'0B5c3UTO8DDZwY19jc1QxajY2Q0E'\n",
      "'https://drive.google.com/uc?id=0B5c3UTO8DDZwY19jc1QxajY2Q0E&export=download'\n",
      "'0B5c3UTO8DDZwcTFoQ0tIU0lzTms'\n",
      "'https://drive.google.com/uc?id=0B5c3UTO8DDZwcTFoQ0tIU0lzTms&export=download'\n",
      "'0B5c3UTO8DDZwUzRTNWZiQ3Rrcjg'\n",
      "'https://drive.google.com/uc?id=0B5c3UTO8DDZwUzRTNWZiQ3Rrcjg&export=download'\n",
      "'0B5c3UTO8DDZwa09TcmVSb056MW8'\n",
      "'https://drive.google.com/uc?id=0B5c3UTO8DDZwa09TcmVSb056MW8&export=download'\n",
      "'0B5c3UTO8DDZwLUNkVTdoMk56RzA'\n",
      "'https://drive.google.com/uc?id=0B5c3UTO8DDZwLUNkVTdoMk56RzA&export=download'\n",
      "'0B5c3UTO8DDZweGdVQTFwbE5SSlU'\n",
      "'https://drive.google.com/uc?id=0B5c3UTO8DDZweGdVQTFwbE5SSlU&export=download'\n",
      "'0B5c3UTO8DDZwcXA2Yzg4aFNBSjA'\n",
      "'https://drive.google.com/uc?id=0B5c3UTO8DDZwcXA2Yzg4aFNBSjA&export=download'\n",
      "'0B5c3UTO8DDZwSUROWmVsNkRrOFU'\n",
      "'https://drive.google.com/uc?id=0B5c3UTO8DDZwSUROWmVsNkRrOFU&export=download'\n",
      "'0B5c3UTO8DDZwcWl6Unp1c3FGY3c'\n",
      "'https://drive.google.com/uc?id=0B5c3UTO8DDZwcWl6Unp1c3FGY3c&export=download'\n",
      "'0B5c3UTO8DDZwbGl4bmNBdVhOeVU'\n",
      "'https://drive.google.com/uc?id=0B5c3UTO8DDZwbGl4bmNBdVhOeVU&export=download'\n",
      "'0B5c3UTO8DDZwWGNVa19nN1VvNkE'\n",
      "'https://drive.google.com/uc?id=0B5c3UTO8DDZwWGNVa19nN1VvNkE&export=download'\n",
      "'0B5c3UTO8DDZwRmU5VUZvTGRGODQ'\n",
      "'https://drive.google.com/uc?id=0B5c3UTO8DDZwRmU5VUZvTGRGODQ&export=download'\n",
      "'0B5c3UTO8DDZwSjFKM1lxazVsV2s'\n",
      "'https://drive.google.com/uc?id=0B5c3UTO8DDZwSjFKM1lxazVsV2s&export=download'\n",
      "'0B5c3UTO8DDZwcWlmWG9XcXFtMTg'\n",
      "'https://drive.google.com/uc?id=0B5c3UTO8DDZwcWlmWG9XcXFtMTg&export=download'\n",
      "'0B5c3UTO8DDZwMDVtMGFEOUdISTg'\n",
      "'https://drive.google.com/uc?id=0B5c3UTO8DDZwMDVtMGFEOUdISTg&export=download'\n",
      "'0B5c3UTO8DDZwOGJJZTRJMGo2ZUk'\n",
      "'https://drive.google.com/uc?id=0B5c3UTO8DDZwOGJJZTRJMGo2ZUk&export=download'\n",
      "'0B5c3UTO8DDZwd19acUFRTDFUeU0'\n",
      "'https://drive.google.com/uc?id=0B5c3UTO8DDZwd19acUFRTDFUeU0&export=download'\n",
      "'0B5c3UTO8DDZwMW5yamd3UmFOUk0'\n",
      "'https://drive.google.com/uc?id=0B5c3UTO8DDZwMW5yamd3UmFOUk0&export=download'\n",
      "'0B5c3UTO8DDZwa0NRalEzUVFpWlU'\n",
      "'https://drive.google.com/uc?id=0B5c3UTO8DDZwa0NRalEzUVFpWlU&export=download'\n"
     ]
    }
   ],
   "source": [
    "fileStreams = []\n",
    "downURLs = []\n",
    "for file in file_list:\n",
    "    if file['title'].endswith('32m_trans.tif'):\n",
    "        #pp(file['id'])\n",
    "        #pp(file['webContentLink'])\n",
    "        #fileStreams.append(imageFromID(file['id']))\n",
    "        downURLs.append(urlretrieve(file['webContentLink'])[0])"
   ]
  },
  {
   "cell_type": "code",
   "execution_count": 8,
   "metadata": {},
   "outputs": [
    {
     "name": "stdout",
     "output_type": "stream",
     "text": [
      "\n",
      "Warping all inputs to the following:\n",
      "Resolution: 32.0\n",
      "Extent: [485646.72, 3093264.171, 485648.127, 3094831.672]\n",
      "Projection: '+proj=utm +zone=45 +datum=WGS84 +units=m +no_defs '\n",
      "Resampling alg: cubic\n",
      "\n",
      "1 of 29: /tmp/tmpxtnqwtb3\n",
      "nl: 49 ns: 0 res: 32.000\n"
     ]
    },
    {
     "ename": "RuntimeError",
     "evalue": "Attempt to create 0x49 dataset is illegal,sizes must be larger than zero.",
     "output_type": "error",
     "traceback": [
      "\u001b[0;31m---------------------------------------------------------------------------\u001b[0m",
      "\u001b[0;31mRuntimeError\u001b[0m                              Traceback (most recent call last)",
      "\u001b[0;32m<ipython-input-8-93861204c50d>\u001b[0m in \u001b[0;36m<module>\u001b[0;34m()\u001b[0m\n\u001b[0;32m----> 1\u001b[0;31m \u001b[0mdataset_list\u001b[0m \u001b[0;34m=\u001b[0m \u001b[0mwarplib\u001b[0m\u001b[0;34m.\u001b[0m\u001b[0mmemwarp_multi_fn\u001b[0m\u001b[0;34m(\u001b[0m\u001b[0mdownURLs\u001b[0m\u001b[0;34m,\u001b[0m \u001b[0mextent\u001b[0m\u001b[0;34m=\u001b[0m\u001b[0;34m'intersection'\u001b[0m\u001b[0;34m,\u001b[0m \u001b[0mres\u001b[0m\u001b[0;34m=\u001b[0m\u001b[0;34m'min'\u001b[0m\u001b[0;34m,\u001b[0m \u001b[0mt_srs\u001b[0m\u001b[0;34m=\u001b[0m\u001b[0mdownURLs\u001b[0m\u001b[0;34m[\u001b[0m\u001b[0;36m2\u001b[0m\u001b[0;34m]\u001b[0m\u001b[0;34m)\u001b[0m\u001b[0;34m\u001b[0m\u001b[0m\n\u001b[0m",
      "\u001b[0;32m~/anaconda3/envs/rasterenv/lib/python3.6/site-packages/pygeotools/lib/warplib.py\u001b[0m in \u001b[0;36mmemwarp_multi_fn\u001b[0;34m(src_fn_list, res, extent, t_srs, r, verbose, dst_ndv)\u001b[0m\n\u001b[1;32m    525\u001b[0m         \u001b[0msys\u001b[0m\u001b[0;34m.\u001b[0m\u001b[0mexit\u001b[0m\u001b[0;34m(\u001b[0m\u001b[0;34m'Missing input file(s)'\u001b[0m\u001b[0;34m)\u001b[0m\u001b[0;34m\u001b[0m\u001b[0m\n\u001b[1;32m    526\u001b[0m     \u001b[0msrc_ds_list\u001b[0m \u001b[0;34m=\u001b[0m \u001b[0;34m[\u001b[0m\u001b[0mgdal\u001b[0m\u001b[0;34m.\u001b[0m\u001b[0mOpen\u001b[0m\u001b[0;34m(\u001b[0m\u001b[0mfn\u001b[0m\u001b[0;34m,\u001b[0m \u001b[0mgdal\u001b[0m\u001b[0;34m.\u001b[0m\u001b[0mGA_ReadOnly\u001b[0m\u001b[0;34m)\u001b[0m \u001b[0;32mfor\u001b[0m \u001b[0mfn\u001b[0m \u001b[0;32min\u001b[0m \u001b[0msrc_fn_list\u001b[0m\u001b[0;34m]\u001b[0m\u001b[0;34m\u001b[0m\u001b[0m\n\u001b[0;32m--> 527\u001b[0;31m     \u001b[0;32mreturn\u001b[0m \u001b[0mmemwarp_multi\u001b[0m\u001b[0;34m(\u001b[0m\u001b[0msrc_ds_list\u001b[0m\u001b[0;34m,\u001b[0m \u001b[0mres\u001b[0m\u001b[0;34m,\u001b[0m \u001b[0mextent\u001b[0m\u001b[0;34m,\u001b[0m \u001b[0mt_srs\u001b[0m\u001b[0;34m,\u001b[0m \u001b[0mr\u001b[0m\u001b[0;34m,\u001b[0m \u001b[0mverbose\u001b[0m\u001b[0;34m=\u001b[0m\u001b[0mverbose\u001b[0m\u001b[0;34m,\u001b[0m \u001b[0mdst_ndv\u001b[0m\u001b[0;34m=\u001b[0m\u001b[0mdst_ndv\u001b[0m\u001b[0;34m)\u001b[0m\u001b[0;34m\u001b[0m\u001b[0m\n\u001b[0m\u001b[1;32m    528\u001b[0m \u001b[0;34m\u001b[0m\u001b[0m\n\u001b[1;32m    529\u001b[0m \u001b[0;32mdef\u001b[0m \u001b[0mdiskwarp_multi\u001b[0m\u001b[0;34m(\u001b[0m\u001b[0msrc_ds_list\u001b[0m\u001b[0;34m,\u001b[0m \u001b[0mres\u001b[0m\u001b[0;34m=\u001b[0m\u001b[0;34m'first'\u001b[0m\u001b[0;34m,\u001b[0m \u001b[0mextent\u001b[0m\u001b[0;34m=\u001b[0m\u001b[0;34m'intersection'\u001b[0m\u001b[0;34m,\u001b[0m \u001b[0mt_srs\u001b[0m\u001b[0;34m=\u001b[0m\u001b[0;34m'first'\u001b[0m\u001b[0;34m,\u001b[0m \u001b[0mr\u001b[0m\u001b[0;34m=\u001b[0m\u001b[0;34m'cubic'\u001b[0m\u001b[0;34m,\u001b[0m \u001b[0mverbose\u001b[0m\u001b[0;34m=\u001b[0m\u001b[0;32mTrue\u001b[0m\u001b[0;34m,\u001b[0m \u001b[0moutdir\u001b[0m\u001b[0;34m=\u001b[0m\u001b[0;32mNone\u001b[0m\u001b[0;34m,\u001b[0m \u001b[0mdst_ndv\u001b[0m\u001b[0;34m=\u001b[0m\u001b[0;32mNone\u001b[0m\u001b[0;34m)\u001b[0m\u001b[0;34m:\u001b[0m\u001b[0;34m\u001b[0m\u001b[0m\n",
      "\u001b[0;32m~/anaconda3/envs/rasterenv/lib/python3.6/site-packages/pygeotools/lib/warplib.py\u001b[0m in \u001b[0;36mmemwarp_multi\u001b[0;34m(src_ds_list, res, extent, t_srs, r, verbose, dst_ndv)\u001b[0m\n\u001b[1;32m    516\u001b[0m     \"\"\"Helper function for memwarp of multiple input GDAL Datasets\n\u001b[1;32m    517\u001b[0m     \"\"\"\n\u001b[0;32m--> 518\u001b[0;31m     \u001b[0;32mreturn\u001b[0m \u001b[0mwarp_multi\u001b[0m\u001b[0;34m(\u001b[0m\u001b[0msrc_ds_list\u001b[0m\u001b[0;34m,\u001b[0m \u001b[0mres\u001b[0m\u001b[0;34m,\u001b[0m \u001b[0mextent\u001b[0m\u001b[0;34m,\u001b[0m \u001b[0mt_srs\u001b[0m\u001b[0;34m,\u001b[0m \u001b[0mr\u001b[0m\u001b[0;34m,\u001b[0m \u001b[0mwarptype\u001b[0m\u001b[0;34m=\u001b[0m\u001b[0mmemwarp\u001b[0m\u001b[0;34m,\u001b[0m \u001b[0mverbose\u001b[0m\u001b[0;34m=\u001b[0m\u001b[0mverbose\u001b[0m\u001b[0;34m,\u001b[0m \u001b[0mdst_ndv\u001b[0m\u001b[0;34m=\u001b[0m\u001b[0mdst_ndv\u001b[0m\u001b[0;34m)\u001b[0m\u001b[0;34m\u001b[0m\u001b[0m\n\u001b[0m\u001b[1;32m    519\u001b[0m \u001b[0;34m\u001b[0m\u001b[0m\n\u001b[1;32m    520\u001b[0m \u001b[0;32mdef\u001b[0m \u001b[0mmemwarp_multi_fn\u001b[0m\u001b[0;34m(\u001b[0m\u001b[0msrc_fn_list\u001b[0m\u001b[0;34m,\u001b[0m \u001b[0mres\u001b[0m\u001b[0;34m=\u001b[0m\u001b[0;34m'first'\u001b[0m\u001b[0;34m,\u001b[0m \u001b[0mextent\u001b[0m\u001b[0;34m=\u001b[0m\u001b[0;34m'intersection'\u001b[0m\u001b[0;34m,\u001b[0m \u001b[0mt_srs\u001b[0m\u001b[0;34m=\u001b[0m\u001b[0;34m'first'\u001b[0m\u001b[0;34m,\u001b[0m \u001b[0mr\u001b[0m\u001b[0;34m=\u001b[0m\u001b[0;34m'cubic'\u001b[0m\u001b[0;34m,\u001b[0m \u001b[0mverbose\u001b[0m\u001b[0;34m=\u001b[0m\u001b[0;32mTrue\u001b[0m\u001b[0;34m,\u001b[0m \u001b[0mdst_ndv\u001b[0m\u001b[0;34m=\u001b[0m\u001b[0;36m0\u001b[0m\u001b[0;34m)\u001b[0m\u001b[0;34m:\u001b[0m\u001b[0;34m\u001b[0m\u001b[0m\n",
      "\u001b[0;32m~/anaconda3/envs/rasterenv/lib/python3.6/site-packages/pygeotools/lib/warplib.py\u001b[0m in \u001b[0;36mwarp_multi\u001b[0;34m(src_ds_list, res, extent, t_srs, r, warptype, outdir, dst_ndv, verbose, debug)\u001b[0m\n\u001b[1;32m    508\u001b[0m             \u001b[0mout_ds_list\u001b[0m\u001b[0;34m.\u001b[0m\u001b[0mappend\u001b[0m\u001b[0;34m(\u001b[0m\u001b[0mds\u001b[0m\u001b[0;34m)\u001b[0m\u001b[0;34m\u001b[0m\u001b[0m\n\u001b[1;32m    509\u001b[0m         \u001b[0;32melse\u001b[0m\u001b[0;34m:\u001b[0m\u001b[0;34m\u001b[0m\u001b[0m\n\u001b[0;32m--> 510\u001b[0;31m             \u001b[0mdst_ds\u001b[0m \u001b[0;34m=\u001b[0m \u001b[0mwarptype\u001b[0m\u001b[0;34m(\u001b[0m\u001b[0mds\u001b[0m\u001b[0;34m,\u001b[0m \u001b[0mres\u001b[0m\u001b[0;34m,\u001b[0m \u001b[0mextent\u001b[0m\u001b[0;34m,\u001b[0m \u001b[0mt_srs\u001b[0m\u001b[0;34m,\u001b[0m \u001b[0mr\u001b[0m\u001b[0;34m,\u001b[0m \u001b[0moutdir\u001b[0m\u001b[0;34m,\u001b[0m \u001b[0mdst_ndv\u001b[0m\u001b[0;34m=\u001b[0m\u001b[0mdst_ndv\u001b[0m\u001b[0;34m,\u001b[0m \u001b[0mverbose\u001b[0m\u001b[0;34m=\u001b[0m\u001b[0mverbose\u001b[0m\u001b[0;34m)\u001b[0m\u001b[0;34m\u001b[0m\u001b[0m\n\u001b[0m\u001b[1;32m    511\u001b[0m             \u001b[0mout_ds_list\u001b[0m\u001b[0;34m.\u001b[0m\u001b[0mappend\u001b[0m\u001b[0;34m(\u001b[0m\u001b[0mdst_ds\u001b[0m\u001b[0;34m)\u001b[0m\u001b[0;34m\u001b[0m\u001b[0m\n\u001b[1;32m    512\u001b[0m \u001b[0;34m\u001b[0m\u001b[0m\n",
      "\u001b[0;32m~/anaconda3/envs/rasterenv/lib/python3.6/site-packages/pygeotools/lib/warplib.py\u001b[0m in \u001b[0;36mmemwarp\u001b[0;34m(src_ds, res, extent, t_srs, r, oudir, dst_ndv, verbose)\u001b[0m\n\u001b[1;32m    216\u001b[0m     \"\"\"\n\u001b[1;32m    217\u001b[0m     \u001b[0mdriver\u001b[0m \u001b[0;34m=\u001b[0m \u001b[0miolib\u001b[0m\u001b[0;34m.\u001b[0m\u001b[0mmem_drv\u001b[0m\u001b[0;34m\u001b[0m\u001b[0m\n\u001b[0;32m--> 218\u001b[0;31m     \u001b[0;32mreturn\u001b[0m \u001b[0mwarp\u001b[0m\u001b[0;34m(\u001b[0m\u001b[0msrc_ds\u001b[0m\u001b[0;34m,\u001b[0m \u001b[0mres\u001b[0m\u001b[0;34m,\u001b[0m \u001b[0mextent\u001b[0m\u001b[0;34m,\u001b[0m \u001b[0mt_srs\u001b[0m\u001b[0;34m,\u001b[0m \u001b[0mr\u001b[0m\u001b[0;34m,\u001b[0m \u001b[0mdriver\u001b[0m\u001b[0;34m=\u001b[0m\u001b[0mdriver\u001b[0m\u001b[0;34m,\u001b[0m \u001b[0mdst_ndv\u001b[0m\u001b[0;34m=\u001b[0m\u001b[0mdst_ndv\u001b[0m\u001b[0;34m,\u001b[0m \u001b[0mverbose\u001b[0m\u001b[0;34m=\u001b[0m\u001b[0mverbose\u001b[0m\u001b[0;34m)\u001b[0m\u001b[0;34m\u001b[0m\u001b[0m\n\u001b[0m\u001b[1;32m    219\u001b[0m \u001b[0;34m\u001b[0m\u001b[0m\n\u001b[1;32m    220\u001b[0m \u001b[0;31m#Use this to warp directly to output file - no need to write to memory then CreateCopy\u001b[0m\u001b[0;34m\u001b[0m\u001b[0;34m\u001b[0m\u001b[0m\n",
      "\u001b[0;32m~/anaconda3/envs/rasterenv/lib/python3.6/site-packages/pygeotools/lib/warplib.py\u001b[0m in \u001b[0;36mwarp\u001b[0;34m(src_ds, res, extent, t_srs, r, driver, dst_fn, dst_ndv, verbose)\u001b[0m\n\u001b[1;32m    128\u001b[0m     \u001b[0msrc_ns\u001b[0m \u001b[0;34m=\u001b[0m \u001b[0msrc_ds\u001b[0m\u001b[0;34m.\u001b[0m\u001b[0mRasterXSize\u001b[0m\u001b[0;34m\u001b[0m\u001b[0m\n\u001b[1;32m    129\u001b[0m \u001b[0;34m\u001b[0m\u001b[0m\n\u001b[0;32m--> 130\u001b[0;31m     \u001b[0mdst_ds\u001b[0m \u001b[0;34m=\u001b[0m \u001b[0mdriver\u001b[0m\u001b[0;34m.\u001b[0m\u001b[0mCreate\u001b[0m\u001b[0;34m(\u001b[0m\u001b[0mdst_fn\u001b[0m\u001b[0;34m,\u001b[0m \u001b[0mdst_ns\u001b[0m\u001b[0;34m,\u001b[0m \u001b[0mdst_nl\u001b[0m\u001b[0;34m,\u001b[0m \u001b[0msrc_ds\u001b[0m\u001b[0;34m.\u001b[0m\u001b[0mRasterCount\u001b[0m\u001b[0;34m,\u001b[0m \u001b[0msrc_dt\u001b[0m\u001b[0;34m)\u001b[0m\u001b[0;34m\u001b[0m\u001b[0m\n\u001b[0m\u001b[1;32m    131\u001b[0m \u001b[0;34m\u001b[0m\u001b[0m\n\u001b[1;32m    132\u001b[0m     \u001b[0mdst_ds\u001b[0m\u001b[0;34m.\u001b[0m\u001b[0mSetProjection\u001b[0m\u001b[0;34m(\u001b[0m\u001b[0mt_srs\u001b[0m\u001b[0;34m.\u001b[0m\u001b[0mExportToWkt\u001b[0m\u001b[0;34m(\u001b[0m\u001b[0;34m)\u001b[0m\u001b[0;34m)\u001b[0m\u001b[0;34m\u001b[0m\u001b[0m\n",
      "\u001b[0;32m~/anaconda3/envs/rasterenv/lib/python3.6/site-packages/osgeo/gdal.py\u001b[0m in \u001b[0;36mCreate\u001b[0;34m(self, *args, **kwargs)\u001b[0m\n\u001b[1;32m   1539\u001b[0m     \u001b[0;32mdef\u001b[0m \u001b[0mCreate\u001b[0m\u001b[0;34m(\u001b[0m\u001b[0mself\u001b[0m\u001b[0;34m,\u001b[0m \u001b[0;34m*\u001b[0m\u001b[0margs\u001b[0m\u001b[0;34m,\u001b[0m \u001b[0;34m**\u001b[0m\u001b[0mkwargs\u001b[0m\u001b[0;34m)\u001b[0m\u001b[0;34m:\u001b[0m\u001b[0;34m\u001b[0m\u001b[0m\n\u001b[1;32m   1540\u001b[0m         \u001b[0;34m\"\"\"Create(Driver self, char const * utf8_path, int xsize, int ysize, int bands=1, GDALDataType eType, char ** options=None) -> Dataset\"\"\"\u001b[0m\u001b[0;34m\u001b[0m\u001b[0m\n\u001b[0;32m-> 1541\u001b[0;31m         \u001b[0;32mreturn\u001b[0m \u001b[0m_gdal\u001b[0m\u001b[0;34m.\u001b[0m\u001b[0mDriver_Create\u001b[0m\u001b[0;34m(\u001b[0m\u001b[0mself\u001b[0m\u001b[0;34m,\u001b[0m \u001b[0;34m*\u001b[0m\u001b[0margs\u001b[0m\u001b[0;34m,\u001b[0m \u001b[0;34m**\u001b[0m\u001b[0mkwargs\u001b[0m\u001b[0;34m)\u001b[0m\u001b[0;34m\u001b[0m\u001b[0m\n\u001b[0m\u001b[1;32m   1542\u001b[0m \u001b[0;34m\u001b[0m\u001b[0m\n\u001b[1;32m   1543\u001b[0m \u001b[0;34m\u001b[0m\u001b[0m\n",
      "\u001b[0;31mRuntimeError\u001b[0m: Attempt to create 0x49 dataset is illegal,sizes must be larger than zero."
     ]
    }
   ],
   "source": [
    "dataset_list = warplib.memwarp_multi_fn(downURLs, extent='intersection', res='min', t_srs=downURLs[2])"
   ]
  }
 ],
 "metadata": {
  "kernelspec": {
   "display_name": "Python 3",
   "language": "python",
   "name": "python3"
  },
  "language_info": {
   "codemirror_mode": {
    "name": "ipython",
    "version": 3
   },
   "file_extension": ".py",
   "mimetype": "text/x-python",
   "name": "python",
   "nbconvert_exporter": "python",
   "pygments_lexer": "ipython3",
   "version": "3.6.6"
  }
 },
 "nbformat": 4,
 "nbformat_minor": 2
}
