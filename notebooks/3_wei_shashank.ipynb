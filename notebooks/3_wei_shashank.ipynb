{
 "cells": [
  {
   "cell_type": "markdown",
   "metadata": {},
   "source": [
    "#  Velocity Mapping"
   ]
  },
  {
   "cell_type": "markdown",
   "metadata": {},
   "source": [
    "## Background\n",
    "\n",
    "The lowermost 3-4 km of Khumbu Glacier is shown to be stagnant while up glacier flow increases up to ~20 m/yr during 1992 - 2002 period (Quincey et al. 2009). \n",
    "\n",
    "\n",
    "  \n",
    "<img src=\"./figures/kg.png\" alt=\"Quency et al., 2009\" style=\"width: 341px;\"/>\n",
    "\n",
    "\n",
    "\n"
   ]
  },
  {
   "cell_type": "markdown",
   "metadata": {},
   "source": [
    "## Question\n",
    "\n",
    "what the average spped is for recent years with new data?"
   ]
  },
  {
   "cell_type": "markdown",
   "metadata": {},
   "source": [
    "\n",
    "## Tools:\n",
    "\n",
    "**Vmap**\n",
    "https://github.com/dshean/vmap.git\n",
    "\n",
    "- Velocity map generation using the NASA Ames Stereo Pipeline (ASP) image correlator\n",
    "\n",
    "The ASP/VW correlator is fast, memory-efficient, multi-threaded, and generalized. This means it can be used for efficient feature tracking operations on two arbitrary input rasters acquired at different times.\n",
    "It works not only for single pairs, but also can be used for large scale batching processing in a high performane computing environment(Shean et al., 2016)\n",
    "\n",
    "**Ames Stereo Pipeline (ASP)** \n",
    "https://ti.arc.nasa.gov/tech/asr/groups/intelligent-robotics/ngt/stereo/\n",
    "\n",
    "The NASA ASP is a suite of free and open source automated geodesy and stereogrammetry tools designed for processing stereo imagery captured from satellites (around Earth and other planets), robotic rovers, aerial cameras, and historical imagery, with and without accurate camera pose information. It produces cartographic products, including digital elevation models (DEMs), ortho-projected imagery, 3D models, and bundle-adjusted networks of cameras.\n"
   ]
  },
  {
   "cell_type": "markdown",
   "metadata": {},
   "source": [
    "# Data and Workflow\n",
    "\n",
    "- 8 m resolution DEM Time Series for Khumbu Glacier, from Dec 2013 to Oct 2016\n",
    "- GeoTIFF format\n",
    "\n",
    "<img src=\"./figures/workflow.png\">\n",
    "\n",
    "\n",
    "\n",
    "\n",
    "\n"
   ]
  },
  {
   "cell_type": "code",
   "execution_count": null,
   "metadata": {},
   "outputs": [],
   "source": []
  }
 ],
 "metadata": {
  "kernelspec": {
   "display_name": "Python [default]",
   "language": "python",
   "name": "python3"
  },
  "language_info": {
   "codemirror_mode": {
    "name": "ipython",
    "version": 3
   },
   "file_extension": ".py",
   "mimetype": "text/x-python",
   "name": "python",
   "nbconvert_exporter": "python",
   "pygments_lexer": "ipython3",
   "version": "3.6.5"
  }
 },
 "nbformat": 4,
 "nbformat_minor": 2
}
