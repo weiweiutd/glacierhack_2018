{
 "cells": [
  {
   "cell_type": "markdown",
   "metadata": {},
   "source": [
    "# #GDriveHack\n",
    "\n",
    "Authors: Daniel Howard, Friedrich Knuth\n",
    "\n",
    "### Reading files directly off Google Drive \n",
    "\n",
    "Typical share URL looks like this: \n",
    "\n",
    "`https://drive.google.com/file/d/FILE_ID/edit?usp=sharing`\n",
    "\n",
    "Direct download link equivalent: \n",
    "\n",
    "`https://drive.google.com/uc?export=download&id=FILE_ID`"
   ]
  },
  {
   "cell_type": "code",
   "execution_count": 1,
   "metadata": {},
   "outputs": [],
   "source": [
    "from pydrive.auth import GoogleAuth\n",
    "from pydrive.drive import GoogleDrive"
   ]
  },
  {
   "cell_type": "markdown",
   "metadata": {},
   "source": [
    "### Create local webserver and auto handles authentication.\n",
    "\n",
    "Note: This requires an authentication file `client_secrets.json` which contains credentials we created from Google's Developer Console [https://console.cloud.google.com/](https://console.cloud.google.com/) necessary for accessing Google Drive's API (as well as other APIs).\n",
    "\n",
    "#### Important security note\n",
    "As a developer, you should be mindful of how you share your keys, i.e. `client_secrets.json`, and if they are accessible in your source. Typically, you should store the keys in a folder above your project as would be uploaded to open source repositories or explicitly included in your `.gitignore` file. Otherwise, your key can be taken by someone else and used to abuse access to Google's servers. Depending on the key you create, you are limited to a finite quota of Google Drive queries per key in order to prevent bandwidth abuse on Google's servers."
   ]
  },
  {
   "cell_type": "code",
   "execution_count": 2,
   "metadata": {},
   "outputs": [
    {
     "name": "stdout",
     "output_type": "stream",
     "text": [
      "Your browser has been opened to visit:\n",
      "\n",
      "    https://accounts.google.com/o/oauth2/auth?client_id=307813950907-rvk9tbblercr3aklfvdrnng4uiddu715.apps.googleusercontent.com&redirect_uri=http%3A%2F%2Flocalhost%3A8080%2F&scope=https%3A%2F%2Fwww.googleapis.com%2Fauth%2Fdrive&access_type=offline&response_type=code\n",
      "\n",
      "Authentication successful.\n"
     ]
    }
   ],
   "source": [
    "# TODO: Find way to authenticate anonymously\n",
    "gauth = GoogleAuth()\n",
    "## Requires client_secrets.json file with Google Drive API credentials in the same working directory of this notebook\n",
    "gauth.LocalWebserverAuth()\n",
    "drive = GoogleDrive(gauth)"
   ]
  },
  {
   "cell_type": "markdown",
   "metadata": {},
   "source": [
    "Now that we have authenticated, the pyDrive library object `drive` we created by calling `GoogleDrive(auth)` can now access all the files and metadata in a Google Drive folder, including the file unique `id` and `webContentLink` strings."
   ]
  },
  {
   "cell_type": "code",
   "execution_count": 3,
   "metadata": {},
   "outputs": [
    {
     "name": "stdout",
     "output_type": "stream",
     "text": [
      "20161025_0524_104001002469AD00_1040010024438E00-DEM_32m_trans.tif\n",
      "0B5c3UTO8DDZwcENvbkNQQTJMYlE\n",
      "20160211_0512_104001001854B000_10400100175C2D00-DEM_32m_trans.tif\n",
      "0B5c3UTO8DDZwSlh5amFKUDZ4T1U\n",
      "20150115_0456_1040010006A12900_104001000665F400-DEM_32m_trans.tif\n",
      "0B5c3UTO8DDZwZGZ1TkdWSmRQWDA\n",
      "20161029_0451_103001005E3EFF00_103001005E3A0D00-DEM_32m_trans.tif\n",
      "0B5c3UTO8DDZwSnp5Rk9XWG1pQ28\n",
      "20160422_0501_103001005444C600_103001005401B300-DEM_32m_trans.tif\n",
      "0B5c3UTO8DDZwQkVGQnVCdTdKcVk\n",
      "20150607_0458_1030010043A29500_10300100436B1D00-DEM_32m_trans.tif\n",
      "0B5c3UTO8DDZwQzJ6TFl5Rm9MTGM\n",
      "20150527_0504_1030010043122E00_1030010040B19300-DEM_32m_trans.tif\n",
      "0B5c3UTO8DDZwSTg3Q1hxbDh6ZEE\n",
      "20140311_0520_103001002E546F00_103001002C956F00-DEM_32m_trans.tif\n",
      "0B5c3UTO8DDZwUFZuUGtSbDlvOGs\n",
      "20151002_0651_10200100457F0C00_1020010042C0CE00-DEM_32m_trans.tif\n",
      "0B5c3UTO8DDZwR2NHYUM3M0U0VjQ\n",
      "20150607_0609_10200100407B0400_102001003DCB1C00-DEM_32m_trans.tif\n",
      "0B5c3UTO8DDZwNVlJV2FNN2JMM2s\n",
      "20150204_0555_102001003A5B7900_1020010039598B00-DEM_32m_trans.tif\n",
      "0B5c3UTO8DDZwY19jc1QxajY2Q0E\n",
      "20150131_0548_1020010038618500_102001003829CB00-DEM_32m_trans.tif\n",
      "0B5c3UTO8DDZwcTFoQ0tIU0lzTms\n",
      "20141022_0518_1020010036518E00_102001003525D400-DEM_32m_trans.tif\n",
      "0B5c3UTO8DDZwUzRTNWZiQ3Rrcjg\n",
      "20140514_0454_102001003001E400_102001002F6B1000-DEM_32m_trans.tif\n",
      "0B5c3UTO8DDZwa09TcmVSb056MW8\n",
      "20140324_0453_102001002D263400_102001002C1E2100-DEM_32m_trans.tif\n",
      "0B5c3UTO8DDZwLUNkVTdoMk56RzA\n",
      "20140311_0458_102001002CDDFB00_102001002CE68A00-DEM_32m_trans.tif\n",
      "0B5c3UTO8DDZweGdVQTFwbE5SSlU\n",
      "20140307_0452_102001002C5CED00_102001002CCB4600-DEM_32m_trans.tif\n",
      "0B5c3UTO8DDZwcXA2Yzg4aFNBSjA\n",
      "20140303_0447_1020010029AC1C00_102001002BD01800-DEM_32m_trans.tif\n",
      "0B5c3UTO8DDZwSUROWmVsNkRrOFU\n",
      "20131229_0456_10200100296A0900_10200100298D5F00-DEM_32m_trans.tif\n",
      "0B5c3UTO8DDZwcWl6Unp1c3FGY3c\n",
      "20130106_0456_102001001D141500_102001001DC53200-DEM_32m_trans.tif\n",
      "0B5c3UTO8DDZwbGl4bmNBdVhOeVU\n",
      "20121228_0506_102001001FB33300_102001002097D600-DEM_32m_trans.tif\n",
      "0B5c3UTO8DDZwWGNVa19nN1VvNkE\n",
      "20030507_0445_1010010001E01600_1010010001E01500-DEM_32m_trans.tif\n",
      "0B5c3UTO8DDZwRmU5VUZvTGRGODQ\n",
      "20161105_0448_1050010007140900_1050010007140B00-DEM_32m_trans.tif\n",
      "0B5c3UTO8DDZwSjFKM1lxazVsV2s\n",
      "20151111_0448_1050010002153D00_1050010002153F00-DEM_32m_trans.tif\n",
      "0B5c3UTO8DDZwcWlmWG9XcXFtMTg\n",
      "20151023_0456_1050010001C29900_1050010001C29B00-DEM_32m_trans.tif\n",
      "0B5c3UTO8DDZwMDVtMGFEOUdISTg\n",
      "20151018_0514_1050010001B64900_1050010001B64A00-DEM_32m_trans.tif\n",
      "0B5c3UTO8DDZwOGJJZTRJMGo2ZUk\n",
      "20150124_0454_1050410012196D00_1050410012196B00-DEM_32m_trans.tif\n",
      "0B5c3UTO8DDZwd19acUFRTDFUeU0\n",
      "20141018_0511_1050410011888400_1050410011888300-DEM_32m_trans.tif\n",
      "0B5c3UTO8DDZwMW5yamd3UmFOUk0\n",
      "20121223_0456_1050410000E0AE00_1050410000E8C900-DEM_32m_trans.tif\n",
      "0B5c3UTO8DDZwa0NRalEzUVFpWlU\n"
     ]
    }
   ],
   "source": [
    "publicFolder = '0B5c3UTO8DDZwLVlDQnBoVC12TXM'\n",
    "\n",
    "# Get all file metadata objects referenced under the public Google Drive folder at the ID previously referenced\n",
    "file_list = drive.ListFile({'q': \"'%s' in parents and trashed=false\" % publicFolder}).GetList()\n",
    "\n",
    "fileIDs = []\n",
    "fileContentLinks = []\n",
    "\n",
    "# iterate over files in folder\n",
    "for file in file_list:\n",
    "    # Filter files based on the types we wish to access\n",
    "    if file['title'].endswith('32m_trans.tif'):\n",
    "        \n",
    "        # print file name\n",
    "        print(file['title'])\n",
    "        print(file['id'])\n",
    "        \n",
    "        # append file id to list\n",
    "        fileIDs.append(file['id'])\n",
    "        fileContentLinks.append(file['webContentLink'])"
   ]
  },
  {
   "cell_type": "markdown",
   "metadata": {},
   "source": [
    "### Import GDAL and parse URLs for loading into GDAL"
   ]
  },
  {
   "cell_type": "code",
   "execution_count": 4,
   "metadata": {},
   "outputs": [],
   "source": [
    "from osgeo import gdal, osr\n",
    "import matplotlib.pyplot as plt"
   ]
  },
  {
   "cell_type": "code",
   "execution_count": 5,
   "metadata": {},
   "outputs": [],
   "source": [
    "download_base_url = 'https://drive.google.com/uc?export=download&id='\n",
    "file_blob_id = fileIDs[0]\n",
    "\n",
    "url = download_base_url + file_blob_id"
   ]
  },
  {
   "cell_type": "markdown",
   "metadata": {},
   "source": [
    "You may construct a direct url from the file blob ID like in the code block above (which allows other parameters to be set in Google URL call)  \n",
    "or  \n",
    "take the links provided directly from the metadata key `webContentLink` which were stored in `fileContentLinks`."
   ]
  },
  {
   "cell_type": "markdown",
   "metadata": {},
   "source": [
    "### Use GDAL to load an example `.tif` file\n",
    "Note: Access to the `.tif` files in our Google Drive is mediated by url links. Any library or Python method needing access to these files must be able to reference and stream data from a URL link, which `gdal` can handle. Otherwsie, more sophisticated libraries, like `urllib`, will be needed to access the files via other means or or to download files as they are needed as temp files."
   ]
  },
  {
   "cell_type": "code",
   "execution_count": 6,
   "metadata": {},
   "outputs": [
    {
     "name": "stdout",
     "output_type": "stream",
     "text": [
      "PROJCS[\"WGS 84 / UTM zone 45N\",\n",
      "    GEOGCS[\"WGS 84\",\n",
      "        DATUM[\"WGS_1984\",\n",
      "            SPHEROID[\"WGS 84\",6378137,298.257223563,\n",
      "                AUTHORITY[\"EPSG\",\"7030\"]],\n",
      "            AUTHORITY[\"EPSG\",\"6326\"]],\n",
      "        PRIMEM[\"Greenwich\",0,\n",
      "            AUTHORITY[\"EPSG\",\"8901\"]],\n",
      "        UNIT[\"degree\",0.0174532925199433,\n",
      "            AUTHORITY[\"EPSG\",\"9122\"]],\n",
      "        AUTHORITY[\"EPSG\",\"4326\"]],\n",
      "    PROJECTION[\"Transverse_Mercator\"],\n",
      "    PARAMETER[\"latitude_of_origin\",0],\n",
      "    PARAMETER[\"central_meridian\",87],\n",
      "    PARAMETER[\"scale_factor\",0.9996],\n",
      "    PARAMETER[\"false_easting\",500000],\n",
      "    PARAMETER[\"false_northing\",0],\n",
      "    UNIT[\"metre\",1,\n",
      "        AUTHORITY[\"EPSG\",\"9001\"]],\n",
      "    AXIS[\"Easting\",EAST],\n",
      "    AXIS[\"Northing\",NORTH],\n",
      "    AUTHORITY[\"EPSG\",\"32645\"]]\n"
     ]
    }
   ],
   "source": [
    "# url = fileContentLinks[0]\n",
    "\n",
    "ds = gdal.Open(url)\n",
    "data = ds.ReadAsArray()\n",
    "gt = ds.GetGeoTransform()\n",
    "proj = ds.GetProjection()\n",
    "inproj = osr.SpatialReference()\n",
    "inproj.ImportFromWkt(proj)\n",
    "\n",
    "print(inproj)"
   ]
  },
  {
   "cell_type": "code",
   "execution_count": 7,
   "metadata": {},
   "outputs": [
    {
     "data": {
      "text/plain": [
       "<matplotlib.image.AxesImage at 0x7f22f10b9f60>"
      ]
     },
     "execution_count": 7,
     "metadata": {},
     "output_type": "execute_result"
    },
    {
     "data": {
      "image/png": "[encoded data removed]",
      "text/plain": [
       "<Figure size 432x288 with 1 Axes>"
      ]
     },
     "metadata": {
      "needs_background": "light"
     },
     "output_type": "display_data"
    }
   ],
   "source": [
    "plt.imshow(data)"
   ]
  }
 ],
 "metadata": {
  "kernelspec": {
   "display_name": "Python 3",
   "language": "python",
   "name": "python3"
  },
  "language_info": {
   "codemirror_mode": {
    "name": "ipython",
    "version": 3
   },
   "file_extension": ".py",
   "mimetype": "text/x-python",
   "name": "python",
   "nbconvert_exporter": "python",
   "pygments_lexer": "ipython3",
   "version": "3.6.6"
  }
 },
 "nbformat": 4,
 "nbformat_minor": 2
}
