{
 "cells": [
  {
   "cell_type": "markdown",
   "metadata": {},
   "source": [
    "# Data\n",
    "\n",
    "* Interested in the elevation change of the Khumbu glacier\n",
    "* 29 DEM data sets in geotif format (already coregistered)\n",
    "* Read the data by two methods:\n",
    "  * gdal and pygeotools\n",
    "  * xarrays\n"
   ]
  },
  {
   "cell_type": "markdown",
   "metadata": {},
   "source": [
    "![Hei](figures/coregistered_data_all.png)\n"
   ]
  },
  {
   "cell_type": "markdown",
   "metadata": {},
   "source": [
    "`xarray` makes it very easy to obtain statistical quantities of the datasets, such as:\n",
    "```\n",
    "x_band_data.mean(dim=('time'))\n",
    "x_band_data.count(dim='time')\n",
    "```"
   ]
  },
  {
   "cell_type": "markdown",
   "metadata": {},
   "source": [
    "![masking](figures/data_overview.png)"
   ]
  },
  {
   "cell_type": "markdown",
   "metadata": {},
   "source": [
    "### Masking\n",
    "We are interested in the elevation change on the Khumbu glacier, not in the entire domain.  \n",
    "Use shape files to mask out the data we are interested in with the following workflow:  \n",
    "\n",
    "1. First, we read a shape file with all glaciers in the Himalaya region using `pygeotools.geolib`\n",
    "2. Need to find the identifier for the Khumbu glacier in order to filter with `geopandas`\n",
    "  1. Cheated by looking up the polygon ID by using ArcGIS.\n",
    "3. Obtained a shape file with the Khumbu glacier only!"
   ]
  },
  {
   "cell_type": "markdown",
   "metadata": {},
   "source": [
    "![masking](figures/masking_overview.png)"
   ]
  },
  {
   "cell_type": "markdown",
   "metadata": {},
   "source": [
    "# Looking at the rate of change"
   ]
  },
  {
   "cell_type": "markdown",
   "metadata": {},
   "source": [
    "We used the example of DEM change on Mt. Rainier in the raster tutorials.\n",
    "Since we have non-overlapping data, we compare the DEMs to the dataset that covers the largest area"
   ]
  },
  {
   "cell_type": "markdown",
   "metadata": {},
   "source": [
    "![all_changes](figures/direct_comparison_all.png)"
   ]
  },
  {
   "cell_type": "markdown",
   "metadata": {},
   "source": [
    "## Smarter way to look at elevate change\n",
    "\n",
    "Instead of elevation differences between DEM, it is more informative to use regression for establishing the annual elevation change. This plot uses DEMs from 2012 to 2016 and only pixels that have information for estimates that are more than 1 year apart.\n",
    "\n",
    "The second plot excludes outliers.\n",
    "\n",
    "Additional packages: \n",
    "\n",
    "scikit-learn"
   ]
  },
  {
   "cell_type": "markdown",
   "metadata": {},
   "source": [
    "![all_changes](figures/elevation_change_map.png)"
   ]
  },
  {
   "cell_type": "markdown",
   "metadata": {},
   "source": [
    "# Change and elevation\n",
    "This plot shows what we have already seen on the map. Areas of lower elevation lost ice mass while the higher areas experienced losses and gains.\n",
    "\n",
    "Code and packages used:\n",
    "\n",
    "Code from Mt. Rainier example (David Shean)\n",
    "\n",
    "xarray"
   ]
  },
  {
   "cell_type": "markdown",
   "metadata": {},
   "source": [
    "![all_changes](figures/change_by_elevation.png)"
   ]
  },
  {
   "cell_type": "code",
   "execution_count": null,
   "metadata": {},
   "outputs": [],
   "source": []
  }
 ],
 "metadata": {
  "kernelspec": {
   "display_name": "Python [default]",
   "language": "python",
   "name": "python3"
  },
  "language_info": {
   "codemirror_mode": {
    "name": "ipython",
    "version": 3
   },
   "file_extension": ".py",
   "mimetype": "text/x-python",
   "name": "python",
   "nbconvert_exporter": "python",
   "pygments_lexer": "ipython3",
   "version": "3.6.6"
  }
 },
 "nbformat": 4,
 "nbformat_minor": 2
}
