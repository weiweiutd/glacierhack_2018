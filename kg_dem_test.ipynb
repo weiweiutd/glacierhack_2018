{
 "cells": [
  {
   "cell_type": "code",
   "execution_count": 19,
   "metadata": {},
   "outputs": [],
   "source": [
    "#Allow for interactive figure display\n",
    "%matplotlib notebook\n",
    "#%matplotlib inline"
   ]
  },
  {
   "cell_type": "code",
   "execution_count": 20,
   "metadata": {},
   "outputs": [],
   "source": [
    "#Import necessary modules\n",
    "from osgeo import gdal\n",
    "import numpy as np\n",
    "import matplotlib.pyplot as plt\n",
    "import matplotlib.image as mpimg\n",
    "\n",
    "\n",
    "from pygeotools.lib import iolib, warplib, geolib, timelib, malib"
   ]
  },
  {
   "cell_type": "code",
   "execution_count": 23,
   "metadata": {},
   "outputs": [],
   "source": [
    "#Input DEM filenames\n",
    "dem_2010_fn = 'data/khumbu_DEM_32m/20100220_0508_1030010004C8E000_1030010004245100-DEM_32m.tif'\n",
    "dem_2014_fn = 'data/khumbu_DEM_32m/20140425_0417_1010010012968C00_1010010012986800-DEM_32m.tif'\n",
    "dem_2015_fn = 'data/khumbu_DEM_32m/20150131_0548_1020010038618500_102001003829CB00-DEM_32m_trans.tif'\n",
    "\n",
    "dem_fn_list = [dem_2010_fn, dem_2014_fn, dem_2016_fn]\n",
    "\n",
    "# plot the DEM file\n",
    "#image = mpimg.imread(dem_2010_fn)\n",
    "# plt.imshow(dem_2010_fn)\n",
    "# plt.show()"
   ]
  },
  {
   "cell_type": "code",
   "execution_count": 22,
   "metadata": {},
   "outputs": [
    {
     "ename": "NotImplementedError",
     "evalue": "Wrong number or type of arguments for overloaded function 'CoordinateTransformation_TransformPoint'.\n  Possible C/C++ prototypes are:\n    OSRCoordinateTransformationShadow::TransformPoint(double [3])\n    OSRCoordinateTransformationShadow::TransformPoint(double [3],double,double,double)\n",
     "output_type": "error",
     "traceback": [
      "\u001b[0;31m---------------------------------------------------------------------------\u001b[0m",
      "\u001b[0;31mNotImplementedError\u001b[0m                       Traceback (most recent call last)",
      "\u001b[0;32m<ipython-input-22-7ddde2ee0a15>\u001b[0m in \u001b[0;36m<module>\u001b[0;34m()\u001b[0m\n\u001b[0;32m----> 1\u001b[0;31m \u001b[0mds_list\u001b[0m \u001b[0;34m=\u001b[0m \u001b[0mwarplib\u001b[0m\u001b[0;34m.\u001b[0m\u001b[0mmemwarp_multi_fn\u001b[0m\u001b[0;34m(\u001b[0m\u001b[0mdem_fn_list\u001b[0m\u001b[0;34m,\u001b[0m \u001b[0mextent\u001b[0m\u001b[0;34m=\u001b[0m\u001b[0;34m'intersection'\u001b[0m\u001b[0;34m,\u001b[0m \u001b[0mres\u001b[0m\u001b[0;34m=\u001b[0m\u001b[0;34m'min'\u001b[0m\u001b[0;34m,\u001b[0m \u001b[0mt_srs\u001b[0m\u001b[0;34m=\u001b[0m\u001b[0mdem_2015_fn\u001b[0m\u001b[0;34m)\u001b[0m\u001b[0;34m\u001b[0m\u001b[0m\n\u001b[0m",
      "\u001b[0;32m/anaconda3/envs/rasterenv/lib/python3.6/site-packages/pygeotools/lib/warplib.py\u001b[0m in \u001b[0;36mmemwarp_multi_fn\u001b[0;34m(src_fn_list, res, extent, t_srs, r, verbose, dst_ndv)\u001b[0m\n\u001b[1;32m    525\u001b[0m         \u001b[0msys\u001b[0m\u001b[0;34m.\u001b[0m\u001b[0mexit\u001b[0m\u001b[0;34m(\u001b[0m\u001b[0;34m'Missing input file(s)'\u001b[0m\u001b[0;34m)\u001b[0m\u001b[0;34m\u001b[0m\u001b[0m\n\u001b[1;32m    526\u001b[0m     \u001b[0msrc_ds_list\u001b[0m \u001b[0;34m=\u001b[0m \u001b[0;34m[\u001b[0m\u001b[0mgdal\u001b[0m\u001b[0;34m.\u001b[0m\u001b[0mOpen\u001b[0m\u001b[0;34m(\u001b[0m\u001b[0mfn\u001b[0m\u001b[0;34m,\u001b[0m \u001b[0mgdal\u001b[0m\u001b[0;34m.\u001b[0m\u001b[0mGA_ReadOnly\u001b[0m\u001b[0;34m)\u001b[0m \u001b[0;32mfor\u001b[0m \u001b[0mfn\u001b[0m \u001b[0;32min\u001b[0m \u001b[0msrc_fn_list\u001b[0m\u001b[0;34m]\u001b[0m\u001b[0;34m\u001b[0m\u001b[0m\n\u001b[0;32m--> 527\u001b[0;31m     \u001b[0;32mreturn\u001b[0m \u001b[0mmemwarp_multi\u001b[0m\u001b[0;34m(\u001b[0m\u001b[0msrc_ds_list\u001b[0m\u001b[0;34m,\u001b[0m \u001b[0mres\u001b[0m\u001b[0;34m,\u001b[0m \u001b[0mextent\u001b[0m\u001b[0;34m,\u001b[0m \u001b[0mt_srs\u001b[0m\u001b[0;34m,\u001b[0m \u001b[0mr\u001b[0m\u001b[0;34m,\u001b[0m \u001b[0mverbose\u001b[0m\u001b[0;34m=\u001b[0m\u001b[0mverbose\u001b[0m\u001b[0;34m,\u001b[0m \u001b[0mdst_ndv\u001b[0m\u001b[0;34m=\u001b[0m\u001b[0mdst_ndv\u001b[0m\u001b[0;34m)\u001b[0m\u001b[0;34m\u001b[0m\u001b[0m\n\u001b[0m\u001b[1;32m    528\u001b[0m \u001b[0;34m\u001b[0m\u001b[0m\n\u001b[1;32m    529\u001b[0m \u001b[0;32mdef\u001b[0m \u001b[0mdiskwarp_multi\u001b[0m\u001b[0;34m(\u001b[0m\u001b[0msrc_ds_list\u001b[0m\u001b[0;34m,\u001b[0m \u001b[0mres\u001b[0m\u001b[0;34m=\u001b[0m\u001b[0;34m'first'\u001b[0m\u001b[0;34m,\u001b[0m \u001b[0mextent\u001b[0m\u001b[0;34m=\u001b[0m\u001b[0;34m'intersection'\u001b[0m\u001b[0;34m,\u001b[0m \u001b[0mt_srs\u001b[0m\u001b[0;34m=\u001b[0m\u001b[0;34m'first'\u001b[0m\u001b[0;34m,\u001b[0m \u001b[0mr\u001b[0m\u001b[0;34m=\u001b[0m\u001b[0;34m'cubic'\u001b[0m\u001b[0;34m,\u001b[0m \u001b[0mverbose\u001b[0m\u001b[0;34m=\u001b[0m\u001b[0;32mTrue\u001b[0m\u001b[0;34m,\u001b[0m \u001b[0moutdir\u001b[0m\u001b[0;34m=\u001b[0m\u001b[0;32mNone\u001b[0m\u001b[0;34m,\u001b[0m \u001b[0mdst_ndv\u001b[0m\u001b[0;34m=\u001b[0m\u001b[0;32mNone\u001b[0m\u001b[0;34m)\u001b[0m\u001b[0;34m:\u001b[0m\u001b[0;34m\u001b[0m\u001b[0m\n",
      "\u001b[0;32m/anaconda3/envs/rasterenv/lib/python3.6/site-packages/pygeotools/lib/warplib.py\u001b[0m in \u001b[0;36mmemwarp_multi\u001b[0;34m(src_ds_list, res, extent, t_srs, r, verbose, dst_ndv)\u001b[0m\n\u001b[1;32m    516\u001b[0m     \"\"\"Helper function for memwarp of multiple input GDAL Datasets\n\u001b[1;32m    517\u001b[0m     \"\"\"\n\u001b[0;32m--> 518\u001b[0;31m     \u001b[0;32mreturn\u001b[0m \u001b[0mwarp_multi\u001b[0m\u001b[0;34m(\u001b[0m\u001b[0msrc_ds_list\u001b[0m\u001b[0;34m,\u001b[0m \u001b[0mres\u001b[0m\u001b[0;34m,\u001b[0m \u001b[0mextent\u001b[0m\u001b[0;34m,\u001b[0m \u001b[0mt_srs\u001b[0m\u001b[0;34m,\u001b[0m \u001b[0mr\u001b[0m\u001b[0;34m,\u001b[0m \u001b[0mwarptype\u001b[0m\u001b[0;34m=\u001b[0m\u001b[0mmemwarp\u001b[0m\u001b[0;34m,\u001b[0m \u001b[0mverbose\u001b[0m\u001b[0;34m=\u001b[0m\u001b[0mverbose\u001b[0m\u001b[0;34m,\u001b[0m \u001b[0mdst_ndv\u001b[0m\u001b[0;34m=\u001b[0m\u001b[0mdst_ndv\u001b[0m\u001b[0;34m)\u001b[0m\u001b[0;34m\u001b[0m\u001b[0m\n\u001b[0m\u001b[1;32m    519\u001b[0m \u001b[0;34m\u001b[0m\u001b[0m\n\u001b[1;32m    520\u001b[0m \u001b[0;32mdef\u001b[0m \u001b[0mmemwarp_multi_fn\u001b[0m\u001b[0;34m(\u001b[0m\u001b[0msrc_fn_list\u001b[0m\u001b[0;34m,\u001b[0m \u001b[0mres\u001b[0m\u001b[0;34m=\u001b[0m\u001b[0;34m'first'\u001b[0m\u001b[0;34m,\u001b[0m \u001b[0mextent\u001b[0m\u001b[0;34m=\u001b[0m\u001b[0;34m'intersection'\u001b[0m\u001b[0;34m,\u001b[0m \u001b[0mt_srs\u001b[0m\u001b[0;34m=\u001b[0m\u001b[0;34m'first'\u001b[0m\u001b[0;34m,\u001b[0m \u001b[0mr\u001b[0m\u001b[0;34m=\u001b[0m\u001b[0;34m'cubic'\u001b[0m\u001b[0;34m,\u001b[0m \u001b[0mverbose\u001b[0m\u001b[0;34m=\u001b[0m\u001b[0;32mTrue\u001b[0m\u001b[0;34m,\u001b[0m \u001b[0mdst_ndv\u001b[0m\u001b[0;34m=\u001b[0m\u001b[0;36m0\u001b[0m\u001b[0;34m)\u001b[0m\u001b[0;34m:\u001b[0m\u001b[0;34m\u001b[0m\u001b[0m\n",
      "\u001b[0;32m/anaconda3/envs/rasterenv/lib/python3.6/site-packages/pygeotools/lib/warplib.py\u001b[0m in \u001b[0;36mwarp_multi\u001b[0;34m(src_ds_list, res, extent, t_srs, r, warptype, outdir, dst_ndv, verbose, debug)\u001b[0m\n\u001b[1;32m    451\u001b[0m     \u001b[0;31m#Parse the input\u001b[0m\u001b[0;34m\u001b[0m\u001b[0;34m\u001b[0m\u001b[0m\n\u001b[1;32m    452\u001b[0m     \u001b[0mt_srs\u001b[0m \u001b[0;34m=\u001b[0m \u001b[0mparse_srs\u001b[0m\u001b[0;34m(\u001b[0m\u001b[0mt_srs\u001b[0m\u001b[0;34m,\u001b[0m \u001b[0msrc_ds_list\u001b[0m\u001b[0;34m)\u001b[0m\u001b[0;34m\u001b[0m\u001b[0m\n\u001b[0;32m--> 453\u001b[0;31m     \u001b[0mres\u001b[0m \u001b[0;34m=\u001b[0m \u001b[0mparse_res\u001b[0m\u001b[0;34m(\u001b[0m\u001b[0mres\u001b[0m\u001b[0;34m,\u001b[0m \u001b[0msrc_ds_list\u001b[0m\u001b[0;34m,\u001b[0m \u001b[0mt_srs\u001b[0m\u001b[0;34m)\u001b[0m\u001b[0;34m\u001b[0m\u001b[0m\n\u001b[0m\u001b[1;32m    454\u001b[0m     \u001b[0mextent\u001b[0m \u001b[0;34m=\u001b[0m \u001b[0mparse_extent\u001b[0m\u001b[0;34m(\u001b[0m\u001b[0mextent\u001b[0m\u001b[0;34m,\u001b[0m \u001b[0msrc_ds_list\u001b[0m\u001b[0;34m,\u001b[0m \u001b[0mt_srs\u001b[0m\u001b[0;34m)\u001b[0m\u001b[0;34m\u001b[0m\u001b[0m\n\u001b[1;32m    455\u001b[0m \u001b[0;34m\u001b[0m\u001b[0m\n",
      "\u001b[0;32m/anaconda3/envs/rasterenv/lib/python3.6/site-packages/pygeotools/lib/warplib.py\u001b[0m in \u001b[0;36mparse_res\u001b[0;34m(res, src_ds_list, t_srs)\u001b[0m\n\u001b[1;32m    335\u001b[0m     \u001b[0;32mif\u001b[0m \u001b[0mres\u001b[0m \u001b[0;32min\u001b[0m \u001b[0mres_str_list\u001b[0m \u001b[0;32mand\u001b[0m \u001b[0msrc_ds_list\u001b[0m \u001b[0;32mis\u001b[0m \u001b[0;32mnot\u001b[0m \u001b[0;32mNone\u001b[0m\u001b[0;34m:\u001b[0m\u001b[0;34m\u001b[0m\u001b[0m\n\u001b[1;32m    336\u001b[0m         \u001b[0;31m#Returns min, max, mean, med\u001b[0m\u001b[0;34m\u001b[0m\u001b[0;34m\u001b[0m\u001b[0m\n\u001b[0;32m--> 337\u001b[0;31m         \u001b[0mres_stats\u001b[0m \u001b[0;34m=\u001b[0m \u001b[0mgeolib\u001b[0m\u001b[0;34m.\u001b[0m\u001b[0mget_res_stats\u001b[0m\u001b[0;34m(\u001b[0m\u001b[0msrc_ds_list\u001b[0m\u001b[0;34m,\u001b[0m \u001b[0mt_srs\u001b[0m\u001b[0;34m=\u001b[0m\u001b[0mt_srs\u001b[0m\u001b[0;34m)\u001b[0m\u001b[0;34m\u001b[0m\u001b[0m\n\u001b[0m\u001b[1;32m    338\u001b[0m         \u001b[0;32mif\u001b[0m \u001b[0mres\u001b[0m \u001b[0;34m==\u001b[0m \u001b[0;34m'first'\u001b[0m\u001b[0;34m:\u001b[0m\u001b[0;34m\u001b[0m\u001b[0m\n\u001b[1;32m    339\u001b[0m             \u001b[0mres\u001b[0m \u001b[0;34m=\u001b[0m \u001b[0mgeolib\u001b[0m\u001b[0;34m.\u001b[0m\u001b[0mget_res\u001b[0m\u001b[0;34m(\u001b[0m\u001b[0msrc_ds_list\u001b[0m\u001b[0;34m[\u001b[0m\u001b[0;36m0\u001b[0m\u001b[0;34m]\u001b[0m\u001b[0;34m,\u001b[0m \u001b[0mt_srs\u001b[0m\u001b[0;34m=\u001b[0m\u001b[0mt_srs\u001b[0m\u001b[0;34m,\u001b[0m \u001b[0msquare\u001b[0m\u001b[0;34m=\u001b[0m\u001b[0;32mTrue\u001b[0m\u001b[0;34m)\u001b[0m\u001b[0;34m[\u001b[0m\u001b[0;36m0\u001b[0m\u001b[0;34m]\u001b[0m\u001b[0;34m\u001b[0m\u001b[0m\n",
      "\u001b[0;32m/anaconda3/envs/rasterenv/lib/python3.6/site-packages/pygeotools/lib/geolib.py\u001b[0m in \u001b[0;36mget_res_stats\u001b[0;34m(ds_list, t_srs)\u001b[0m\n\u001b[1;32m   1164\u001b[0m     \u001b[0;32mif\u001b[0m \u001b[0mt_srs\u001b[0m \u001b[0;32mis\u001b[0m \u001b[0;32mNone\u001b[0m\u001b[0;34m:\u001b[0m\u001b[0;34m\u001b[0m\u001b[0m\n\u001b[1;32m   1165\u001b[0m         \u001b[0mt_srs\u001b[0m \u001b[0;34m=\u001b[0m \u001b[0mget_ds_srs\u001b[0m\u001b[0;34m(\u001b[0m\u001b[0mds_list\u001b[0m\u001b[0;34m[\u001b[0m\u001b[0;36m0\u001b[0m\u001b[0;34m]\u001b[0m\u001b[0;34m)\u001b[0m\u001b[0;34m\u001b[0m\u001b[0m\n\u001b[0;32m-> 1166\u001b[0;31m     \u001b[0mres\u001b[0m \u001b[0;34m=\u001b[0m \u001b[0mnp\u001b[0m\u001b[0;34m.\u001b[0m\u001b[0marray\u001b[0m\u001b[0;34m(\u001b[0m\u001b[0;34m[\u001b[0m\u001b[0mget_res\u001b[0m\u001b[0;34m(\u001b[0m\u001b[0mds\u001b[0m\u001b[0;34m,\u001b[0m \u001b[0mt_srs\u001b[0m\u001b[0;34m=\u001b[0m\u001b[0mt_srs\u001b[0m\u001b[0;34m)\u001b[0m \u001b[0;32mfor\u001b[0m \u001b[0mds\u001b[0m \u001b[0;32min\u001b[0m \u001b[0mds_list\u001b[0m\u001b[0;34m]\u001b[0m\u001b[0;34m)\u001b[0m\u001b[0;34m\u001b[0m\u001b[0m\n\u001b[0m\u001b[1;32m   1167\u001b[0m     \u001b[0;31m#Check that all projections are identical\u001b[0m\u001b[0;34m\u001b[0m\u001b[0;34m\u001b[0m\u001b[0m\n\u001b[1;32m   1168\u001b[0m     \u001b[0;31m#gt_array = np.array([ds.GetGeoTransform() for ds in args])\u001b[0m\u001b[0;34m\u001b[0m\u001b[0;34m\u001b[0m\u001b[0m\n",
      "\u001b[0;32m/anaconda3/envs/rasterenv/lib/python3.6/site-packages/pygeotools/lib/geolib.py\u001b[0m in \u001b[0;36m<listcomp>\u001b[0;34m(.0)\u001b[0m\n\u001b[1;32m   1164\u001b[0m     \u001b[0;32mif\u001b[0m \u001b[0mt_srs\u001b[0m \u001b[0;32mis\u001b[0m \u001b[0;32mNone\u001b[0m\u001b[0;34m:\u001b[0m\u001b[0;34m\u001b[0m\u001b[0m\n\u001b[1;32m   1165\u001b[0m         \u001b[0mt_srs\u001b[0m \u001b[0;34m=\u001b[0m \u001b[0mget_ds_srs\u001b[0m\u001b[0;34m(\u001b[0m\u001b[0mds_list\u001b[0m\u001b[0;34m[\u001b[0m\u001b[0;36m0\u001b[0m\u001b[0;34m]\u001b[0m\u001b[0;34m)\u001b[0m\u001b[0;34m\u001b[0m\u001b[0m\n\u001b[0;32m-> 1166\u001b[0;31m     \u001b[0mres\u001b[0m \u001b[0;34m=\u001b[0m \u001b[0mnp\u001b[0m\u001b[0;34m.\u001b[0m\u001b[0marray\u001b[0m\u001b[0;34m(\u001b[0m\u001b[0;34m[\u001b[0m\u001b[0mget_res\u001b[0m\u001b[0;34m(\u001b[0m\u001b[0mds\u001b[0m\u001b[0;34m,\u001b[0m \u001b[0mt_srs\u001b[0m\u001b[0;34m=\u001b[0m\u001b[0mt_srs\u001b[0m\u001b[0;34m)\u001b[0m \u001b[0;32mfor\u001b[0m \u001b[0mds\u001b[0m \u001b[0;32min\u001b[0m \u001b[0mds_list\u001b[0m\u001b[0;34m]\u001b[0m\u001b[0;34m)\u001b[0m\u001b[0;34m\u001b[0m\u001b[0m\n\u001b[0m\u001b[1;32m   1167\u001b[0m     \u001b[0;31m#Check that all projections are identical\u001b[0m\u001b[0;34m\u001b[0m\u001b[0;34m\u001b[0m\u001b[0m\n\u001b[1;32m   1168\u001b[0m     \u001b[0;31m#gt_array = np.array([ds.GetGeoTransform() for ds in args])\u001b[0m\u001b[0;34m\u001b[0m\u001b[0;34m\u001b[0m\u001b[0m\n",
      "\u001b[0;32m/anaconda3/envs/rasterenv/lib/python3.6/site-packages/pygeotools/lib/geolib.py\u001b[0m in \u001b[0;36mget_res\u001b[0;34m(ds, t_srs, square)\u001b[0m\n\u001b[1;32m   1192\u001b[0m             \u001b[0;31m#ullr = get_ullr(ds, t_srs)\u001b[0m\u001b[0;34m\u001b[0m\u001b[0;34m\u001b[0m\u001b[0m\n\u001b[1;32m   1193\u001b[0m             \u001b[0;31m#diag = np.sqrt((ullr[0]-ullr[2])**2 + (ullr[1]-ullr[3])**2)\u001b[0m\u001b[0;34m\u001b[0m\u001b[0;34m\u001b[0m\u001b[0m\n\u001b[0;32m-> 1194\u001b[0;31m             \u001b[0mextent\u001b[0m \u001b[0;34m=\u001b[0m \u001b[0mds_extent\u001b[0m\u001b[0;34m(\u001b[0m\u001b[0mds\u001b[0m\u001b[0;34m,\u001b[0m \u001b[0mt_srs\u001b[0m\u001b[0;34m)\u001b[0m\u001b[0;34m\u001b[0m\u001b[0m\n\u001b[0m\u001b[1;32m   1195\u001b[0m             \u001b[0mdiag\u001b[0m \u001b[0;34m=\u001b[0m \u001b[0mnp\u001b[0m\u001b[0;34m.\u001b[0m\u001b[0msqrt\u001b[0m\u001b[0;34m(\u001b[0m\u001b[0;34m(\u001b[0m\u001b[0mextent\u001b[0m\u001b[0;34m[\u001b[0m\u001b[0;36m2\u001b[0m\u001b[0;34m]\u001b[0m\u001b[0;34m-\u001b[0m\u001b[0mextent\u001b[0m\u001b[0;34m[\u001b[0m\u001b[0;36m0\u001b[0m\u001b[0;34m]\u001b[0m\u001b[0;34m)\u001b[0m\u001b[0;34m**\u001b[0m\u001b[0;36m2\u001b[0m \u001b[0;34m+\u001b[0m \u001b[0;34m(\u001b[0m\u001b[0mextent\u001b[0m\u001b[0;34m[\u001b[0m\u001b[0;36m3\u001b[0m\u001b[0;34m]\u001b[0m\u001b[0;34m-\u001b[0m\u001b[0mextent\u001b[0m\u001b[0;34m[\u001b[0m\u001b[0;36m1\u001b[0m\u001b[0;34m]\u001b[0m\u001b[0;34m)\u001b[0m\u001b[0;34m**\u001b[0m\u001b[0;36m2\u001b[0m\u001b[0;34m)\u001b[0m\u001b[0;34m\u001b[0m\u001b[0m\n\u001b[1;32m   1196\u001b[0m             \u001b[0mres\u001b[0m \u001b[0;34m=\u001b[0m \u001b[0mdiag\u001b[0m \u001b[0;34m/\u001b[0m \u001b[0mnp\u001b[0m\u001b[0;34m.\u001b[0m\u001b[0msqrt\u001b[0m\u001b[0;34m(\u001b[0m\u001b[0mds\u001b[0m\u001b[0;34m.\u001b[0m\u001b[0mRasterXSize\u001b[0m\u001b[0;34m**\u001b[0m\u001b[0;36m2\u001b[0m \u001b[0;34m+\u001b[0m \u001b[0mds\u001b[0m\u001b[0;34m.\u001b[0m\u001b[0mRasterYSize\u001b[0m\u001b[0;34m**\u001b[0m\u001b[0;36m2\u001b[0m\u001b[0;34m)\u001b[0m\u001b[0;34m\u001b[0m\u001b[0m\n",
      "\u001b[0;32m/anaconda3/envs/rasterenv/lib/python3.6/site-packages/pygeotools/lib/geolib.py\u001b[0m in \u001b[0;36mds_extent\u001b[0;34m(ds, t_srs)\u001b[0m\n\u001b[1;32m   1320\u001b[0m         \u001b[0;31m#if not ct.TransformPoint(extent[0], extent[1]):\u001b[0m\u001b[0;34m\u001b[0m\u001b[0;34m\u001b[0m\u001b[0m\n\u001b[1;32m   1321\u001b[0m         \u001b[0;31m#Need to check that transformed coordinates fall within appropriate bounds\u001b[0m\u001b[0;34m\u001b[0m\u001b[0;34m\u001b[0m\u001b[0m\n\u001b[0;32m-> 1322\u001b[0;31m         \u001b[0mul\u001b[0m \u001b[0;34m=\u001b[0m \u001b[0mct\u001b[0m\u001b[0;34m.\u001b[0m\u001b[0mTransformPoint\u001b[0m\u001b[0;34m(\u001b[0m\u001b[0;34m*\u001b[0m\u001b[0mul\u001b[0m\u001b[0;34m)\u001b[0m\u001b[0;34m\u001b[0m\u001b[0m\n\u001b[0m\u001b[1;32m   1323\u001b[0m         \u001b[0mll\u001b[0m \u001b[0;34m=\u001b[0m \u001b[0mct\u001b[0m\u001b[0;34m.\u001b[0m\u001b[0mTransformPoint\u001b[0m\u001b[0;34m(\u001b[0m\u001b[0;34m*\u001b[0m\u001b[0mll\u001b[0m\u001b[0;34m)\u001b[0m\u001b[0;34m\u001b[0m\u001b[0m\n\u001b[1;32m   1324\u001b[0m         \u001b[0mur\u001b[0m \u001b[0;34m=\u001b[0m \u001b[0mct\u001b[0m\u001b[0;34m.\u001b[0m\u001b[0mTransformPoint\u001b[0m\u001b[0;34m(\u001b[0m\u001b[0;34m*\u001b[0m\u001b[0mur\u001b[0m\u001b[0;34m)\u001b[0m\u001b[0;34m\u001b[0m\u001b[0m\n",
      "\u001b[0;32m/anaconda3/envs/rasterenv/lib/python3.6/site-packages/osgeo/osr.py\u001b[0m in \u001b[0;36mTransformPoint\u001b[0;34m(self, *args)\u001b[0m\n\u001b[1;32m   1266\u001b[0m         \u001b[0mTransformPoint\u001b[0m\u001b[0;34m(\u001b[0m\u001b[0mCoordinateTransformation\u001b[0m \u001b[0mself\u001b[0m\u001b[0;34m,\u001b[0m \u001b[0mdouble\u001b[0m \u001b[0mx\u001b[0m\u001b[0;34m,\u001b[0m \u001b[0mdouble\u001b[0m \u001b[0my\u001b[0m\u001b[0;34m,\u001b[0m \u001b[0mdouble\u001b[0m \u001b[0mz\u001b[0m\u001b[0;34m=\u001b[0m\u001b[0;36m0.0\u001b[0m\u001b[0;34m)\u001b[0m\u001b[0;34m\u001b[0m\u001b[0m\n\u001b[1;32m   1267\u001b[0m         \"\"\"\n\u001b[0;32m-> 1268\u001b[0;31m         \u001b[0;32mreturn\u001b[0m \u001b[0m_osr\u001b[0m\u001b[0;34m.\u001b[0m\u001b[0mCoordinateTransformation_TransformPoint\u001b[0m\u001b[0;34m(\u001b[0m\u001b[0mself\u001b[0m\u001b[0;34m,\u001b[0m \u001b[0;34m*\u001b[0m\u001b[0margs\u001b[0m\u001b[0;34m)\u001b[0m\u001b[0;34m\u001b[0m\u001b[0m\n\u001b[0m\u001b[1;32m   1269\u001b[0m \u001b[0;34m\u001b[0m\u001b[0m\n\u001b[1;32m   1270\u001b[0m \u001b[0;34m\u001b[0m\u001b[0m\n",
      "\u001b[0;31mNotImplementedError\u001b[0m: Wrong number or type of arguments for overloaded function 'CoordinateTransformation_TransformPoint'.\n  Possible C/C++ prototypes are:\n    OSRCoordinateTransformationShadow::TransformPoint(double [3])\n    OSRCoordinateTransformationShadow::TransformPoint(double [3],double,double,double)\n"
     ]
    }
   ],
   "source": [
    "ds_list = warplib.memwarp_multi_fn(dem_fn_list, extent='intersection', res='min', t_srs=dem_2015_fn)\n"
   ]
  },
  {
   "cell_type": "code",
   "execution_count": 12,
   "metadata": {},
   "outputs": [],
   "source": [
    "#Load datasets to NumPy masked arrays\n",
    "dem_2010, dem_2014, dem_2016 = [iolib.ds_getma(i) for i in ds_list]\n",
    "dem_list = [dem_2010, dem_2014, dem_2016]"
   ]
  },
  {
   "cell_type": "code",
   "execution_count": 15,
   "metadata": {},
   "outputs": [
    {
     "name": "stdout",
     "output_type": "stream",
     "text": [
      "(476, 256)\n",
      "float32\n"
     ]
    },
    {
     "data": {
      "text/plain": [
       "masked_array(\n",
       "  data=[[6372.4033203125, 6375.4306640625, 6388.2138671875, ..., --,\n",
       "         6674.822265625, --],\n",
       "        [--, --, 6407.294921875, ..., 6620.7587890625, 6614.58203125,\n",
       "         6605.2080078125],\n",
       "        [--, 6442.587890625, 6449.69921875, ..., 6610.8095703125,\n",
       "         6602.470703125, 6595.583984375],\n",
       "        ...,\n",
       "        [4536.41015625, 4535.771484375, 4534.0439453125, ..., --, --, --],\n",
       "        [4553.5146484375, 4553.12109375, 4551.880859375, ..., --, --, --],\n",
       "        [4573.5029296875, 4574.0732421875, 4571.333984375, ..., --, --,\n",
       "         --]],\n",
       "  mask=[[False, False, False, ...,  True, False,  True],\n",
       "        [ True,  True, False, ..., False, False, False],\n",
       "        [ True, False, False, ..., False, False, False],\n",
       "        ...,\n",
       "        [False, False, False, ...,  True,  True,  True],\n",
       "        [False, False, False, ...,  True,  True,  True],\n",
       "        [False, False, False, ...,  True,  True,  True]],\n",
       "  fill_value=0.0,\n",
       "  dtype=float32)"
      ]
     },
     "execution_count": 15,
     "metadata": {},
     "output_type": "execute_result"
    }
   ],
   "source": [
    "#Print some output info\n",
    "print(dem_2014.shape)\n",
    "print(dem_2016.dtype)\n",
    "\n",
    "dem_2014\n"
   ]
  },
  {
   "cell_type": "code",
   "execution_count": 16,
   "metadata": {},
   "outputs": [
    {
     "name": "stdout",
     "output_type": "stream",
     "text": [
      "(142, 225)\n",
      "8742.7 m (28683.6 ft)\n",
      "(142, 225)\n",
      "8711.6 m (28581.3 ft)\n",
      "(142, 225)\n",
      "nan m (nan ft)\n"
     ]
    },
    {
     "name": "stderr",
     "output_type": "stream",
     "text": [
      "/anaconda3/envs/rasterenv/lib/python3.6/site-packages/ipykernel/__main__.py:5: UserWarning: Warning: converting a masked element to nan.\n"
     ]
    }
   ],
   "source": [
    "#Get the array index of the maximum elevation\n",
    "summit_idx = np.unravel_index(dem_2014.argmax(), dem_2014.shape)\n",
    "for dem in dem_list:\n",
    "    print(summit_idx)\n",
    "    print('%0.1f m (%0.1f ft)' % (dem[summit_idx], (dem[summit_idx]*3.28084)))"
   ]
  },
  {
   "cell_type": "code",
   "execution_count": null,
   "metadata": {},
   "outputs": [],
   "source": []
  }
 ],
 "metadata": {
  "kernelspec": {
   "display_name": "Python [conda env:rasterenv]",
   "language": "python",
   "name": "conda-env-rasterenv-py"
  },
  "language_info": {
   "codemirror_mode": {
    "name": "ipython",
    "version": 3
   },
   "file_extension": ".py",
   "mimetype": "text/x-python",
   "name": "python",
   "nbconvert_exporter": "python",
   "pygments_lexer": "ipython3",
   "version": "3.6.6"
  }
 },
 "nbformat": 4,
 "nbformat_minor": 2
}
